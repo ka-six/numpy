{
 "cells": [
  {
   "cell_type": "code",
   "execution_count": 70,
   "id": "7070efc2",
   "metadata": {},
   "outputs": [],
   "source": [
    "import numpy as np\n",
    "import numpy_financial as npf\n",
    "import matplotlib.pyplot as plt\n",
    "\n",
    "\n",
    "pv = 120000\n",
    "n = 5\n",
    "increase_rate = ir = 0.05\n",
    "\n",
    "bank_rate = br = 0.12\n",
    "m = 12\n",
    "\n",
    "nper = n * m\n",
    "periods = np.arange(1,nper+1,dtype=int)"
   ]
  },
  {
   "cell_type": "markdown",
   "id": "d9afe18c",
   "metadata": {},
   "source": [
    "1) Ile będzie wynosiła orientacyjna cena mieszkania za 5 lat?"
   ]
  },
  {
   "cell_type": "code",
   "execution_count": 71,
   "id": "aa178b2d",
   "metadata": {},
   "outputs": [
    {
     "data": {
      "text/plain": [
       "153153.79"
      ]
     },
     "execution_count": 71,
     "metadata": {},
     "output_type": "execute_result"
    }
   ],
   "source": [
    "future = - np.around(npf.fv(ir, n, 0, pv),2)\n",
    "future"
   ]
  },
  {
   "cell_type": "code",
   "execution_count": 72,
   "id": "d94a75bf",
   "metadata": {},
   "outputs": [
    {
     "data": {
      "text/plain": [
       "array([120500.  , 121002.08, 121506.26, 122012.53, 122520.92, 123031.42,\n",
       "       123544.06, 124058.82, 124575.73, 125094.8 , 125616.03, 126139.43,\n",
       "       126665.01, 127192.78, 127722.75, 128254.93, 128789.32, 129325.95,\n",
       "       129864.8 , 130405.91, 130949.26, 131494.89, 132042.78, 132592.96,\n",
       "       133145.43, 133700.2 , 134257.29, 134816.69, 135378.43, 135942.51,\n",
       "       136508.93, 137077.72, 137648.88, 138222.41, 138798.34, 139376.67,\n",
       "       139957.4 , 140540.56, 141126.15, 141714.17, 142304.65, 142897.58,\n",
       "       143492.99, 144090.88, 144691.26, 145294.14, 145899.53, 146507.44,\n",
       "       147117.89, 147730.88, 148346.43, 148964.54, 149585.22, 150208.49,\n",
       "       150834.36, 151462.84, 152093.93, 152727.66, 153364.02, 154003.04])"
      ]
     },
     "execution_count": 72,
     "metadata": {},
     "output_type": "execute_result"
    }
   ],
   "source": [
    "futures = - np.around(npf.fv(ir/12, periods, 0, pv),2)\n",
    "futures"
   ]
  },
  {
   "cell_type": "markdown",
   "id": "13581dd5",
   "metadata": {},
   "source": [
    "2) Ile musisz wpłacać do banku każdego miesiąca, aby przy przedstawionej ofercie uzbierać na mieszkanie w ciągu 5 lat?"
   ]
  },
  {
   "cell_type": "code",
   "execution_count": 73,
   "id": "78db77bd",
   "metadata": {},
   "outputs": [
    {
     "data": {
      "text/plain": [
       "array([  1875.28,   1917.52,   1961.25,   2006.55,   2053.52,   2102.25,\n",
       "         2152.82,   2205.35,   2259.94,   2316.73,   2375.83,   2437.4 ,\n",
       "         2501.59,   2568.56,   2638.5 ,   2711.59,   2788.07,   2868.17,\n",
       "         2952.14,   3040.26,   3132.85,   3230.26,   3332.86,   3441.07,\n",
       "         3555.36,   3676.25,   3804.34,   3940.25,   4084.75,   4238.64,\n",
       "         4402.88,   4578.54,   4766.83,   4969.16,   5187.15,   5422.68,\n",
       "         5677.94,   5955.51,   6258.43,   6590.32,   6955.53,   7359.31,\n",
       "         7808.09,   8309.83,   8874.43,   9514.49,  10246.17,  11090.6 ,\n",
       "        12075.99,  13240.77,  14638.76,  16347.69,  18484.18,  21231.45,\n",
       "        24894.9 ,  30024.24,  37718.88,  50544.14,  76195.91, 153153.79])"
      ]
     },
     "execution_count": 73,
     "metadata": {},
     "output_type": "execute_result"
    }
   ],
   "source": [
    "lokata = - np.around(npf.pmt(br/12, periods, pv=0, fv=fv, when='end'),2)\n",
    "reversed_lokata = lokata[::-1]\n",
    "reversed_lokata"
   ]
  },
  {
   "cell_type": "code",
   "execution_count": 50,
   "id": "df5166c8",
   "metadata": {},
   "outputs": [
    {
     "data": {
      "text/plain": [
       "1875.28"
      ]
     },
     "execution_count": 50,
     "metadata": {},
     "output_type": "execute_result"
    }
   ],
   "source": [
    "monthly_payment = lokata[-1]\n",
    "monthly_payment"
   ]
  },
  {
   "cell_type": "markdown",
   "id": "7c3a0daf",
   "metadata": {},
   "source": [
    "3) Stwórz wykres przedstawiający, jak w interwałach miesięcznych zmieniać się będzie cena mieszkania (liniowy wzrost w całym okresie) oraz wartość twojej lokaty."
   ]
  },
  {
   "cell_type": "code",
   "execution_count": 75,
   "id": "24e9b360",
   "metadata": {},
   "outputs": [
    {
     "data": {
      "text/plain": [
       "Text(0, 0.5, 'Wartość mieszkania/lokaty')"
      ]
     },
     "execution_count": 75,
     "metadata": {},
     "output_type": "execute_result"
    },
    {
     "data": {
      "image/png": "[encoded data removed]",
      "text/plain": [
       "<Figure size 432x288 with 1 Axes>"
      ]
     },
     "metadata": {
      "needs_background": "light"
     },
     "output_type": "display_data"
    }
   ],
   "source": [
    "plt.plot(futures,label='cena mieszkania')\n",
    "plt.plot(reversed_lokata,label='wartość lokaty')\n",
    "plt.legend()\n",
    "plt.xlabel('Kolejne miesiące')\n",
    "plt.ylabel('Wartość mieszkania/lokaty')\n"
   ]
  }
 ],
 "metadata": {
  "kernelspec": {
   "display_name": "Python 3 (ipykernel)",
   "language": "python",
   "name": "python3"
  },
  "language_info": {
   "codemirror_mode": {
    "name": "ipython",
    "version": 3
   },
   "file_extension": ".py",
   "mimetype": "text/x-python",
   "name": "python",
   "nbconvert_exporter": "python",
   "pygments_lexer": "ipython3",
   "version": "3.10.0"
  }
 },
 "nbformat": 4,
 "nbformat_minor": 5
}
