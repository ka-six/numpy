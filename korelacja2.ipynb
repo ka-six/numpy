{
 "cells": [
  {
   "cell_type": "markdown",
   "id": "0cc4b91b",
   "metadata": {},
   "source": [
    "1) Na podstawie zebranych danych oblicz podstawowe miary położenia i rozproszenia dla średniej oczekiwanej długości życia.\n",
    "\n",
    "n = 20\n",
    "\n",
    "poziom_ufności = 95% / \n",
    "odchylenie_standardowe_populacji = 9,09\n",
    "\n",
    "srednia\n",
    "mediana\n",
    "dominanta\n",
    "wariancja\n",
    "kowariancja"
   ]
  },
  {
   "cell_type": "code",
   "execution_count": 2,
   "id": "3af72c61",
   "metadata": {},
   "outputs": [
    {
     "name": "stdout",
     "output_type": "stream",
     "text": [
      "średnia oczekiwanej długości życia w 20 krajach: 73.23764600000001\n",
      "mediana oczekiwanej długości życia w 20 krajach: 76.27044000000001\n",
      "brak dominanty oczekiwanej długości życia w 20 krajach\n"
     ]
    }
   ],
   "source": [
    "Fertility_rate = [1.3,1.95,2.466,1.6,2.952,1.801,1.34,1.34,1.63,2.326,2.436,6.563,1.283,1.43,1.988,1.61,1.921,2.4,1.495,4.705]\n",
    "\n",
    "Life_expectancy = [76.84878,81.40732,77.57895,74.16341,68.84907,73.88595,75.26829,76.26098,80.57244,65.46259,67.5482,55.02451,76.2799,\n",
    "82.29024,69.80695,81.40112,82.19756,74.22683,80.12888,45.55095]\n",
    "\n",
    "import numpy as np\n",
    "\n",
    "n=20\n",
    "lif_exp = np.array(Life_expectancy)\n",
    "\n",
    "mean = lif_exp.sum()/n\n",
    "print(f\"średnia oczekiwanej długości życia w 20 krajach: {mean}\")\n",
    "\n",
    "lif_exp = sorted(Life_expectancy)\n",
    "if len(lif_exp)%2 == 0:\n",
    "    median = (lif_exp[(n//2)]+lif_exp[(n//2+1)])/2\n",
    "else:\n",
    "    median = lif_exp[((n//2)+1)]\n",
    "        \n",
    "print(f\"mediana oczekiwanej długości życia w 20 krajach: {median}\")\n",
    "\n",
    "print(\"brak dominanty oczekiwanej długości życia w 20 krajach\")"
   ]
  },
  {
   "cell_type": "code",
   "execution_count": 3,
   "id": "0ddd1ffd",
   "metadata": {},
   "outputs": [
    {
     "name": "stdout",
     "output_type": "stream",
     "text": [
      "wariancja oczekiwanej długości życia w 20 krajach: 88.19411239750947\n",
      "odchylenie standardowe oczekiwanej długości życia w 20 krajach: 9.39117204599668\n"
     ]
    }
   ],
   "source": [
    "suma = 0\n",
    "for number in Life_expectancy:\n",
    "    suma += (number-mean)**2\n",
    "variance = suma/(n-1)\n",
    "print(f\"wariancja oczekiwanej długości życia w 20 krajach: {variance}\")\n",
    "\n",
    "std_dev = variance**(1/2)\n",
    "print(f\"odchylenie standardowe oczekiwanej długości życia w 20 krajach: {std_dev}\")"
   ]
  },
  {
   "cell_type": "markdown",
   "id": "4ea69028",
   "metadata": {},
   "source": [
    "2) Następnie zmierz korelację pomiędzy obiema zmiennymi i opisz jej siłę i kierunek. Jeśli korelacja występuje, zastanów się, czy można przypuszczać, że jest ona przypadkowa, czy może ma jakieś uzasadnienie."
   ]
  },
  {
   "cell_type": "code",
   "execution_count": 4,
   "id": "af614353",
   "metadata": {},
   "outputs": [
    {
     "name": "stdout",
     "output_type": "stream",
     "text": [
      "średnia współczynnika dzietności w 20 krajach: 2.2268\n",
      "wariancja współczynnika dzietności w 20 krajach: 1.6653558526315793\n",
      "odchylenie standardowe współczynnika dzietności w 20 krajach: 1.2904866727834035\n"
     ]
    }
   ],
   "source": [
    "n=20\n",
    "fertility = np.array(Fertility_rate)\n",
    "\n",
    "mean_2 = fertility.sum()/n\n",
    "print(f\"średnia współczynnika dzietności w 20 krajach: {mean_2}\")\n",
    "\n",
    "suma = 0\n",
    "for number in Fertility_rate:\n",
    "    suma += (number-mean_2)**2\n",
    "variance_2 = suma/(n-1)\n",
    "print(f\"wariancja współczynnika dzietności w 20 krajach: {variance_2}\")\n",
    "\n",
    "std_dev_2 = variance_2**(1/2)\n",
    "print(f\"odchylenie standardowe współczynnika dzietności w 20 krajach: {std_dev_2}\")"
   ]
  },
  {
   "cell_type": "markdown",
   "id": "2a52dfc8",
   "metadata": {},
   "source": [
    "Obliczenie korelacji:"
   ]
  },
  {
   "cell_type": "code",
   "execution_count": 18,
   "id": "4fcf2dad",
   "metadata": {},
   "outputs": [
    {
     "name": "stdout",
     "output_type": "stream",
     "text": [
      "korelacja obu zmiennych w 20 krajach: -0.8204930122649574\n"
     ]
    }
   ],
   "source": [
    "suma = 0\n",
    "for i in range(0, n):\n",
    "    suma += ((Life_expectancy[i] - mean) * (Fertility_rate[i] - mean_2))\n",
    "\n",
    "covariance = suma / (n-1)        \n",
    "\n",
    "corelation = covariance/(std_dev*std_dev_2)\n",
    "\n",
    "print(f\"korelacja obu zmiennych w 20 krajach: {corelation}\")"
   ]
  },
  {
   "cell_type": "markdown",
   "id": "b8958525",
   "metadata": {},
   "source": [
    "Uzyskany wynik na poziomie -0.82 wskazuje na silną ujemną korelację oczekiwanej długości życia oraz współczynnika dzietności. Wzrost jednej zmiennej obserwowany jest wraz ze spadkiem drugiej, może to wynikać z warunków życiowych ludności zamieszkających kraje rozwinięte i kraje rozwijające się."
   ]
  },
  {
   "cell_type": "markdown",
   "id": "ec957045",
   "metadata": {},
   "source": [
    "3) Na koniec postaraj się oszacować średnią oczekiwaną długość życia dla całej populacji przy poziomie ufności 95%. \n",
    "Przyjmij, że odchylenie standardowe populacji wynosi 9,09."
   ]
  },
  {
   "cell_type": "markdown",
   "id": "648f3052",
   "metadata": {},
   "source": [
    "P(-ta < t < ta) = 0.95\n",
    "\n",
    "P(-ta < (mean-m)/std_dev < ta) = 0.95\n",
    "\n",
    "P(-2.0930 < (73.237646-m)/9.09 < 2.0930) = 0.95\n",
    "\n",
    "P(92.263 > m > 54.2123) = 0.95\n",
    "\n",
    "Szacuje się, że średnia oczekiwana długość życia dla całej populacji przy poziomie ufności 95% wyniesie między 92, a 54 lata."
   ]
  }
 ],
 "metadata": {
  "kernelspec": {
   "display_name": "Python 3 (ipykernel)",
   "language": "python",
   "name": "python3"
  },
  "language_info": {
   "codemirror_mode": {
    "name": "ipython",
    "version": 3
   },
   "file_extension": ".py",
   "mimetype": "text/x-python",
   "name": "python",
   "nbconvert_exporter": "python",
   "pygments_lexer": "ipython3",
   "version": "3.10.0"
  }
 },
 "nbformat": 4,
 "nbformat_minor": 5
}
